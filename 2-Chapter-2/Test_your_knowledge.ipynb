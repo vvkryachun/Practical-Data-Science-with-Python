{
 "cells": [
  {
   "cell_type": "markdown",
   "metadata": {},
   "source": [
    "This notebook will help you practice some of the skills and concepts you learned in chapter 2 of the book:\n",
    "- Strings, Numbers\n",
    "- Variables\n",
    "- Lists, Sets, Dictionaries\n",
    "- Loops and list comprehensions\n",
    "- Control Flow\n",
    "- Functions\n",
    "- Classes\n",
    "- Packages/Modules\n",
    "- Debugging an error\n",
    "- Using documentation"
   ]
  },
  {
   "cell_type": "markdown",
   "metadata": {},
   "source": [
    "Here we have some data on the number of books read by different people who work at Bob's Book Emporium. Create Python code that loops through each of the people and prints out how many books they have read. If someone has read 0 books, print out \"___ has not read any books!\" instead of the number of books."
   ]
  },
  {
   "cell_type": "code",
   "execution_count": 1,
   "metadata": {},
   "outputs": [],
   "source": [
    "people = ['Krishnang', 'Steve', 'Jimmy', 'Mary', 'Divya', 'Robert', 'Yulia']\n",
    "books_read = [12, 6, 0, 7, 4, 10, 15]"
   ]
  },
  {
   "cell_type": "markdown",
   "metadata": {},
   "source": [
    "There are several ways to solve this -- you could look at the `zip()` function, use `enumerate()`, use `range` and `len`, or use other methods. To print the names and values, you can use string concatenation (+), f-string formatting, or other methods."
   ]
  },
  {
   "cell_type": "code",
   "execution_count": 4,
   "metadata": {},
   "outputs": [
    {
     "name": "stdout",
     "output_type": "stream",
     "text": [
      "('Krishnang', 12) ('Steve', 6) ('Jimmy', 0) ('Mary', 7) ('Divya', 4) ('Robert', 10) ('Yulia', 15)\n"
     ]
    }
   ],
   "source": [
    "# your code here\n",
    "print(*zip(people, books_read))"
   ]
  },
  {
   "cell_type": "markdown",
   "metadata": {},
   "source": [
    "Turn the loop we just created into a function that takes the two lists (books read and people) as arguments. Be sure to try out your function to make sure it works."
   ]
  },
  {
   "cell_type": "code",
   "execution_count": 7,
   "metadata": {},
   "outputs": [
    {
     "name": "stdout",
     "output_type": "stream",
     "text": [
      "('Krishnang', 12)\n",
      "('Steve', 6)\n",
      "('Jimmy', 0)\n",
      "('Mary', 7)\n",
      "('Divya', 4)\n",
      "('Robert', 10)\n",
      "('Yulia', 15)\n"
     ]
    }
   ],
   "source": [
    "# your code here\n",
    "def lp(a, b):\n",
    "    for i in zip(a,b):\n",
    "        print(i)\n",
    "\n",
    "lp(people,books_read)"
   ]
  },
  {
   "cell_type": "markdown",
   "metadata": {},
   "source": [
    "Challenge: Sort the values of `books_read` from greatest to least and print the top three people with the number of books  they have read. This is a tougher problem. Some possible ways to solve it include using NumPy's argsort, creating a dictionary, and creating tuples."
   ]
  },
  {
   "cell_type": "code",
   "execution_count": 19,
   "metadata": {},
   "outputs": [
    {
     "data": {
      "text/plain": [
       "[('Yulia', 15), ('Krishnang', 12), ('Robert', 10)]"
      ]
     },
     "execution_count": 19,
     "metadata": {},
     "output_type": "execute_result"
    }
   ],
   "source": [
    "# your code here\n",
    "sorted(zip(people, books_read), key=lambda x: x[1],reverse=True)[:3]"
   ]
  },
  {
   "cell_type": "markdown",
   "metadata": {},
   "source": [
    "Bob's books gets a discount for every multiple of 3 books their employees buy and read. Find out how many multiples of 3 books they have read, and how many more books need to be read to get to the next multiple of 3. Python has a built-in `sum` function that may be useful here, and don't forget about the modulo operator."
   ]
  },
  {
   "cell_type": "code",
   "execution_count": 25,
   "metadata": {},
   "outputs": [
    {
     "name": "stdout",
     "output_type": "stream",
     "text": [
      "('Krishnang', 4) ('Steve', 2) ('Jimmy', 0) ('Mary', 2) ('Divya', 1) ('Robert', 3) ('Yulia', 5)\n",
      "('Krishnang', 3) ('Steve', 3) ('Jimmy', 3) ('Mary', 2) ('Divya', 2) ('Robert', 2) ('Yulia', 3)\n"
     ]
    }
   ],
   "source": [
    "# your code here\n",
    "print(*zip(people, [x//3 for x in books_read]))\n",
    "print(*zip(people, [3 - (x - x//3 * 3) for x in books_read]))"
   ]
  },
  {
   "cell_type": "markdown",
   "metadata": {},
   "source": [
    "Create a dictionary for the data where the keys are people's names and the values are the number of books. An advanced way to do this would be with a dictionary comprehension, but you can also use a loop."
   ]
  },
  {
   "cell_type": "code",
   "execution_count": 32,
   "metadata": {},
   "outputs": [
    {
     "name": "stdout",
     "output_type": "stream",
     "text": [
      "{'Krishnang': 12, 'Steve': 6, 'Jimmy': 0, 'Mary': 7, 'Divya': 4, 'Robert': 10, 'Yulia': 15}\n",
      "{'Krishnang': 12, 'Steve': 6, 'Jimmy': 0, 'Mary': 7, 'Divya': 4, 'Robert': 10, 'Yulia': 15}\n"
     ]
    }
   ],
   "source": [
    "# your code here\n",
    "print(dict(zip(people, books_read)))\n",
    "d ={}\n",
    "for k,x in zip(people, books_read):\n",
    "    d[k] = x\n",
    "print(d)    "
   ]
  },
  {
   "cell_type": "markdown",
   "metadata": {},
   "source": [
    "Challenge: Use the dictionary to print out the top 3 people with the most books read. This is where Stack Overflow and searching the web might come in handy -- try searching 'sort dictionary by value in Python'."
   ]
  },
  {
   "cell_type": "code",
   "execution_count": null,
   "metadata": {},
   "outputs": [],
   "source": [
    "# your code here"
   ]
  },
  {
   "cell_type": "markdown",
   "metadata": {},
   "source": [
    "Using sets, ensure there are no duplicate names in our data. (Yes, this is trivial since our data is small and we can manually inspect it, but if we had thousands of names, we could use the same method as we do here.)"
   ]
  },
  {
   "cell_type": "code",
   "execution_count": null,
   "metadata": {},
   "outputs": [],
   "source": [
    "# your code here"
   ]
  },
  {
   "cell_type": "markdown",
   "metadata": {},
   "source": [
    "Create a class for storing the books read and people's names. The class should also include a function for printing out the top three book readers. Test out your class to make sure it works."
   ]
  },
  {
   "cell_type": "code",
   "execution_count": 41,
   "metadata": {},
   "outputs": [],
   "source": [
    "# your code here\n",
    "class readBooks:\n",
    "    def __init__(self, key, value):\n",
    "        self.people = key\n",
    "        self.books_read = value\n",
    "\n",
    "    def top_readres(self):\n",
    "        print(sorted(zip(self.people,self.books_read), key=lambda x: x[1],reverse=True)[:3])\n",
    "        "
   ]
  },
  {
   "cell_type": "code",
   "execution_count": 43,
   "metadata": {},
   "outputs": [],
   "source": [
    "ff = readBooks(people,books_read)"
   ]
  },
  {
   "cell_type": "code",
   "execution_count": 44,
   "metadata": {},
   "outputs": [
    {
     "name": "stdout",
     "output_type": "stream",
     "text": [
      "[('Yulia', 15), ('Krishnang', 12), ('Robert', 10)]\n"
     ]
    }
   ],
   "source": [
    "ff.top_readres()"
   ]
  },
  {
   "cell_type": "markdown",
   "metadata": {},
   "source": [
    "Use the time module to see how long it takes to make a new class and print out the top three readers"
   ]
  },
  {
   "cell_type": "code",
   "execution_count": null,
   "metadata": {},
   "outputs": [],
   "source": [
    "# your code here\n",
    "%%time"
   ]
  },
  {
   "cell_type": "markdown",
   "metadata": {},
   "source": [
    "Another way to do this is with the %%timeit magic command:"
   ]
  },
  {
   "cell_type": "markdown",
   "metadata": {},
   "source": [
    "The code below is throwing a few errors. Debug and correct the error so the code runs."
   ]
  },
  {
   "cell_type": "code",
   "execution_count": 51,
   "metadata": {},
   "outputs": [
    {
     "name": "stdout",
     "output_type": "stream",
     "text": [
      "Steve has only read 6 books\n"
     ]
    }
   ],
   "source": [
    "for b, p in [x for x in zip(books_read, people)][:3]:\n",
    "    if b > 0 and b < 10:\n",
    "        print(p + ' has only read ' + str(b) + ' books')"
   ]
  },
  {
   "cell_type": "markdown",
   "metadata": {},
   "source": [
    "Use the documentation (https://docs.python.org/3/library/stdtypes.html#string-methods) to understand how the functions `rjust` and `ljust` work, then modify the loop below so the output looks something like:\n",
    "\n",
    "```\n",
    "Krishnang------12 books\n",
    "Steve---------- 6 books\n",
    "Jimmy---------- 0 books\n",
    "Mary----------- 7 books\n",
    "Divya---------- 4 books\n",
    "Robert---------10 books\n",
    "Yulia----------15 books\n",
    "```"
   ]
  },
  {
   "cell_type": "code",
   "execution_count": 72,
   "metadata": {},
   "outputs": [
    {
     "name": "stdout",
     "output_type": "stream",
     "text": [
      "Krishnang------12 books\n",
      "Steve---------- 6 books\n",
      "Jimmy---------- 0 books\n",
      "Mary----------- 7 books\n",
      "Divya---------- 4 books\n",
      "Robert---------10 books\n",
      "Yulia----------15 books\n"
     ]
    }
   ],
   "source": [
    "for b, p in zip(books_read, people):\n",
    "    print('{0}{1} books'.format(p.ljust(15,'-'),str(b).rjust(2,' ')))"
   ]
  },
  {
   "cell_type": "code",
   "execution_count": 76,
   "metadata": {},
   "outputs": [
    {
     "name": "stdout",
     "output_type": "stream",
     "text": [
      "Krishnang------12 books\n",
      "Steve---------- 6 books\n",
      "Jimmy---------- 0 books\n",
      "Mary----------- 7 books\n",
      "Divya---------- 4 books\n",
      "Robert---------10 books\n",
      "Yulia----------15 books\n"
     ]
    }
   ],
   "source": [
    "for b, p in zip(books_read, people):\n",
    "    print(f'''{p.ljust(15,'-')}{str(b).rjust(2,' ')} books''')"
   ]
  },
  {
   "cell_type": "code",
   "execution_count": null,
   "metadata": {},
   "outputs": [],
   "source": []
  }
 ],
 "metadata": {
  "kernelspec": {
   "display_name": "Python 3 (ipykernel)",
   "language": "python",
   "name": "python3"
  },
  "language_info": {
   "codemirror_mode": {
    "name": "ipython",
    "version": 3
   },
   "file_extension": ".py",
   "mimetype": "text/x-python",
   "name": "python",
   "nbconvert_exporter": "python",
   "pygments_lexer": "ipython3",
   "version": "3.9.6"
  }
 },
 "nbformat": 4,
 "nbformat_minor": 4
}
